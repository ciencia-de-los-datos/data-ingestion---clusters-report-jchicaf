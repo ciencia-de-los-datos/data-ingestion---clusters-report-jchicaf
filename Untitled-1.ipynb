{
 "cells": [
  {
   "cell_type": "code",
   "execution_count": 1,
   "metadata": {},
   "outputs": [],
   "source": [
    "import pandas as pd"
   ]
  },
  {
   "cell_type": "code",
   "execution_count": 2,
   "metadata": {},
   "outputs": [],
   "source": [
    "listAnchoCols = [9, 16, 16, 77]\n",
    "df = pd.read_fwf('clusters_report.txt', widths=listAnchoCols,  header=None, skiprows=[2,3])\n",
    "df.fillna('', inplace=True)\n",
    "df = df.drop(labels = 0,axis = 1).astype(str).groupby(df[0].mask(df[0]=='').ffill()).agg(' '.join).reset_index()\n",
    "df.columns = df.loc[13]\n",
    "df.drop(13, axis=0, inplace= True)"
   ]
  },
  {
   "cell_type": "code",
   "execution_count": 3,
   "metadata": {},
   "outputs": [],
   "source": [
    "df.columns = [col.strip().lower().replace(' ', '_') for col in df.columns]\n",
    "\n",
    "#Tipos de datos\n",
    "df['cantidad_de_palabras_clave'] = df['cantidad_de_palabras_clave'].astype(int)\n",
    "df['cluster'] = df['cluster'].astype(int)\n",
    "df['porcentaje_de_palabras_clave'] = df['porcentaje_de_palabras_clave'].apply(lambda x: float(x.replace('%', '').replace(',', '.').strip()))\n",
    "\n",
    "# palabras clave\n",
    "df['principales_palabras_clave'] = df.principales_palabras_clave.apply(lambda x: ' '.join(x.split()))\n",
    "df['principales_palabras_clave'] = df['principales_palabras_clave'].str.replace('.', '')\n",
    "\n",
    "# Ordenar\n",
    "df.sort_values(by='cluster', inplace=True)\n",
    "df.reset_index(drop=True, inplace=True)\n",
    "    #return df"
   ]
  },
  {
   "cell_type": "code",
   "execution_count": 4,
   "metadata": {},
   "outputs": [],
   "source": [
    "import pandas as pd\n",
    "\n",
    "def ingest_data():\n",
    "# Leer archivo txt\n",
    "    listAnchoCols = [9, 16, 16, 77]\n",
    "    df = pd.read_fwf('clusters_report.txt', widths=listAnchoCols,  header=None, skiprows=[2,3])\n",
    "    df.fillna('', inplace=True)\n",
    "    df = df.drop(labels = 0,axis = 1).astype(str).groupby(df[0].mask(df[0]=='').ffill()).agg(' '.join).reset_index()\n",
    "    df.columns = df.loc[13]\n",
    "    df.drop(13, axis=0, inplace= True)\n",
    "\n",
    "    # Columnas en minúscula\n",
    "    df.columns = [col.strip().lower().replace(' ', '_') for col in df.columns]\n",
    "\n",
    "    #Tipos de datos\n",
    "    df['cantidad_de_palabras_clave'] = df['cantidad_de_palabras_clave'].astype(int)\n",
    "    df['cluster'] = df['cluster'].astype(int)\n",
    "    df['porcentaje_de_palabras_clave'] = df['porcentaje_de_palabras_clave'].apply(lambda x: float(x.replace('%', '').replace(',', '.').strip()))\n",
    "\n",
    "    # palabras clave\n",
    "    df['principales_palabras_clave'] = df.principales_palabras_clave.apply(lambda x: ' '.join(x.split()))\n",
    "    df['principales_palabras_clave'] = df['principales_palabras_clave'].str.replace('.', '')\n",
    "\n",
    "    # Ordenar\n",
    "    df.sort_values(by='cluster', inplace=True)\n",
    "    df.reset_index(drop=True, inplace=True)\n",
    "\n",
    "    #print(df)\n",
    "\n",
    "    # with open('clusters_report.txt') as f:\n",
    "    #     contents = f.readlines()\n",
    "\n",
    "    # for line in contents:\n",
    "    #     print(line)\n",
    "    \n",
    "    return df"
   ]
  },
  {
   "cell_type": "code",
   "execution_count": 5,
   "metadata": {},
   "outputs": [
    {
     "data": {
      "text/html": [
       "<div>\n",
       "<style scoped>\n",
       "    .dataframe tbody tr th:only-of-type {\n",
       "        vertical-align: middle;\n",
       "    }\n",
       "\n",
       "    .dataframe tbody tr th {\n",
       "        vertical-align: top;\n",
       "    }\n",
       "\n",
       "    .dataframe thead th {\n",
       "        text-align: right;\n",
       "    }\n",
       "</style>\n",
       "<table border=\"1\" class=\"dataframe\">\n",
       "  <thead>\n",
       "    <tr style=\"text-align: right;\">\n",
       "      <th></th>\n",
       "      <th>cluster</th>\n",
       "      <th>cantidad_de_palabras_clave</th>\n",
       "      <th>porcentaje_de_palabras_clave</th>\n",
       "      <th>principales_palabras_clave</th>\n",
       "    </tr>\n",
       "  </thead>\n",
       "  <tbody>\n",
       "    <tr>\n",
       "      <th>0</th>\n",
       "      <td>1</td>\n",
       "      <td>105</td>\n",
       "      <td>15.9</td>\n",
       "      <td>maximum power point tracking, fuzzy-logic base...</td>\n",
       "    </tr>\n",
       "    <tr>\n",
       "      <th>1</th>\n",
       "      <td>2</td>\n",
       "      <td>102</td>\n",
       "      <td>15.4</td>\n",
       "      <td>support vector machine, long short-term memory...</td>\n",
       "    </tr>\n",
       "    <tr>\n",
       "      <th>2</th>\n",
       "      <td>3</td>\n",
       "      <td>89</td>\n",
       "      <td>13.4</td>\n",
       "      <td>smart grid, wind power, reinforcement learning...</td>\n",
       "    </tr>\n",
       "    <tr>\n",
       "      <th>3</th>\n",
       "      <td>4</td>\n",
       "      <td>60</td>\n",
       "      <td>9.1</td>\n",
       "      <td>wind turbine, fault diagnosis, biodiesel, fail...</td>\n",
       "    </tr>\n",
       "    <tr>\n",
       "      <th>4</th>\n",
       "      <td>5</td>\n",
       "      <td>52</td>\n",
       "      <td>7.9</td>\n",
       "      <td>electric vehicle, lithium-ion batteries, state...</td>\n",
       "    </tr>\n",
       "    <tr>\n",
       "      <th>5</th>\n",
       "      <td>6</td>\n",
       "      <td>51</td>\n",
       "      <td>7.7</td>\n",
       "      <td>particle swarm optimization, distribute genera...</td>\n",
       "    </tr>\n",
       "    <tr>\n",
       "      <th>6</th>\n",
       "      <td>7</td>\n",
       "      <td>42</td>\n",
       "      <td>6.3</td>\n",
       "      <td>multi-objective optimization, energy storage, ...</td>\n",
       "    </tr>\n",
       "    <tr>\n",
       "      <th>7</th>\n",
       "      <td>8</td>\n",
       "      <td>38</td>\n",
       "      <td>5.7</td>\n",
       "      <td>genetic algorithm, demand-side management, ene...</td>\n",
       "    </tr>\n",
       "    <tr>\n",
       "      <th>8</th>\n",
       "      <td>9</td>\n",
       "      <td>35</td>\n",
       "      <td>5.3</td>\n",
       "      <td>anfis, global solar irradiance, solar irradian...</td>\n",
       "    </tr>\n",
       "    <tr>\n",
       "      <th>9</th>\n",
       "      <td>10</td>\n",
       "      <td>27</td>\n",
       "      <td>4.1</td>\n",
       "      <td>micro grid, multi-agent systems, distributed e...</td>\n",
       "    </tr>\n",
       "    <tr>\n",
       "      <th>10</th>\n",
       "      <td>11</td>\n",
       "      <td>22</td>\n",
       "      <td>3.3</td>\n",
       "      <td>hydrogen, biochar, biomass, biogas, microbial ...</td>\n",
       "    </tr>\n",
       "    <tr>\n",
       "      <th>11</th>\n",
       "      <td>12</td>\n",
       "      <td>22</td>\n",
       "      <td>3.3</td>\n",
       "      <td>state of charge (soc) estimation, radial basis...</td>\n",
       "    </tr>\n",
       "    <tr>\n",
       "      <th>12</th>\n",
       "      <td>13</td>\n",
       "      <td>17</td>\n",
       "      <td>2.6</td>\n",
       "      <td>pem fuel cell, solid-oxide fuel cell, deep-bel...</td>\n",
       "    </tr>\n",
       "  </tbody>\n",
       "</table>\n",
       "</div>"
      ],
      "text/plain": [
       "    cluster  cantidad_de_palabras_clave  porcentaje_de_palabras_clave  \\\n",
       "0         1                         105                          15.9   \n",
       "1         2                         102                          15.4   \n",
       "2         3                          89                          13.4   \n",
       "3         4                          60                           9.1   \n",
       "4         5                          52                           7.9   \n",
       "5         6                          51                           7.7   \n",
       "6         7                          42                           6.3   \n",
       "7         8                          38                           5.7   \n",
       "8         9                          35                           5.3   \n",
       "9        10                          27                           4.1   \n",
       "10       11                          22                           3.3   \n",
       "11       12                          22                           3.3   \n",
       "12       13                          17                           2.6   \n",
       "\n",
       "                           principales_palabras_clave  \n",
       "0   maximum power point tracking, fuzzy-logic base...  \n",
       "1   support vector machine, long short-term memory...  \n",
       "2   smart grid, wind power, reinforcement learning...  \n",
       "3   wind turbine, fault diagnosis, biodiesel, fail...  \n",
       "4   electric vehicle, lithium-ion batteries, state...  \n",
       "5   particle swarm optimization, distribute genera...  \n",
       "6   multi-objective optimization, energy storage, ...  \n",
       "7   genetic algorithm, demand-side management, ene...  \n",
       "8   anfis, global solar irradiance, solar irradian...  \n",
       "9   micro grid, multi-agent systems, distributed e...  \n",
       "10  hydrogen, biochar, biomass, biogas, microbial ...  \n",
       "11  state of charge (soc) estimation, radial basis...  \n",
       "12  pem fuel cell, solid-oxide fuel cell, deep-bel...  "
      ]
     },
     "execution_count": 5,
     "metadata": {},
     "output_type": "execute_result"
    }
   ],
   "source": [
    "ingest_data()"
   ]
  },
  {
   "cell_type": "code",
   "execution_count": 6,
   "metadata": {},
   "outputs": [
    {
     "data": {
      "text/plain": [
       "[1, 2, 3, 4, 5, 6, 7, 8, 9, 10, 11, 12, 13]"
      ]
     },
     "execution_count": 6,
     "metadata": {},
     "output_type": "execute_result"
    }
   ],
   "source": [
    "ingest_data().cluster.to_list()"
   ]
  },
  {
   "cell_type": "code",
   "execution_count": 7,
   "metadata": {},
   "outputs": [
    {
     "data": {
      "text/plain": [
       "[1, 2, 3, 4, 5, 6, 7, 8, 9, 10, 11, 12, 13]"
      ]
     },
     "execution_count": 7,
     "metadata": {},
     "output_type": "execute_result"
    }
   ],
   "source": [
    "list(range(1, 14))"
   ]
  },
  {
   "cell_type": "code",
   "execution_count": 8,
   "metadata": {},
   "outputs": [
    {
     "data": {
      "text/plain": [
       "[105, 102, 89, 60, 52, 51, 42, 38, 35, 27, 22, 22, 17]"
      ]
     },
     "execution_count": 8,
     "metadata": {},
     "output_type": "execute_result"
    }
   ],
   "source": [
    "ingest_data().cantidad_de_palabras_clave.to_list()"
   ]
  },
  {
   "cell_type": "code",
   "execution_count": 9,
   "metadata": {},
   "outputs": [
    {
     "data": {
      "text/plain": [
       "[15.9, 15.4, 13.4, 9.1, 7.9, 7.7, 6.3, 5.7, 5.3, 4.1, 3.3, 3.3, 2.6]"
      ]
     },
     "execution_count": 9,
     "metadata": {},
     "output_type": "execute_result"
    }
   ],
   "source": [
    "ingest_data().porcentaje_de_palabras_clave.to_list()"
   ]
  },
  {
   "cell_type": "code",
   "execution_count": 10,
   "metadata": {},
   "outputs": [
    {
     "data": {
      "text/plain": [
       "'maximum power point tracking, fuzzy-logic based control, photo voltaic (pv), photo-voltaic system, differential evolution algorithm, evolutionary algorithm, double-fed induction generator (dfig), ant colony optimisation, photo voltaic array, firefly algorithm, partial shade'"
      ]
     },
     "execution_count": 10,
     "metadata": {},
     "output_type": "execute_result"
    }
   ],
   "source": [
    "ingest_data().principales_palabras_clave.to_list()[0]"
   ]
  },
  {
   "cell_type": "code",
   "execution_count": 11,
   "metadata": {},
   "outputs": [
    {
     "data": {
      "text/plain": [
       "'support vector machine, long short-term memory, back-propagation neural network, convolution neural network, speed wind prediction, energy consumption, wind power forecasting, extreme learning machine, recurrent-neural-network (rnn), radial basis function (rbf) networks, wind farm'"
      ]
     },
     "execution_count": 11,
     "metadata": {},
     "output_type": "execute_result"
    }
   ],
   "source": [
    "ingest_data().principales_palabras_clave.to_list()[1]"
   ]
  },
  {
   "cell_type": "code",
   "execution_count": 12,
   "metadata": {},
   "outputs": [
    {
     "data": {
      "text/plain": [
       "'smart grid, wind power, reinforcement learning, energy management, energy efficiency, solar energy, deep reinforcement learning, demand-response (dr), internet of things, energy harvester, q-learning'"
      ]
     },
     "execution_count": 12,
     "metadata": {},
     "output_type": "execute_result"
    }
   ],
   "source": [
    "ingest_data().principales_palabras_clave.to_list()[2]"
   ]
  },
  {
   "cell_type": "code",
   "execution_count": 13,
   "metadata": {},
   "outputs": [
    {
     "data": {
      "text/plain": [
       "'wind turbine, fault diagnosis, biodiesel, failure detection, response-surface methodology, condition monitoring, load forecasting, energy consumption forecast, anomalies detection, optimization-based algorithm, supervisory control and data acquisition'"
      ]
     },
     "execution_count": 13,
     "metadata": {},
     "output_type": "execute_result"
    }
   ],
   "source": [
    "ingest_data().principales_palabras_clave.to_list()[3]"
   ]
  }
 ],
 "metadata": {
  "kernelspec": {
   "display_name": "Python 3",
   "language": "python",
   "name": "python3"
  },
  "language_info": {
   "codemirror_mode": {
    "name": "ipython",
    "version": 3
   },
   "file_extension": ".py",
   "mimetype": "text/x-python",
   "name": "python",
   "nbconvert_exporter": "python",
   "pygments_lexer": "ipython3",
   "version": "3.11.5"
  }
 },
 "nbformat": 4,
 "nbformat_minor": 2
}
